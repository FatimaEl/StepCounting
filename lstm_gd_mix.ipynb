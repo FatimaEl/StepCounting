{
 "cells": [
  {
   "cell_type": "code",
   "execution_count": 2,
   "metadata": {},
   "outputs": [],
   "source": [
    "import numpy as np\n",
    "import matplotlib.pyplot as plt\n",
    "import tensorflow as tf\n",
    "import math\n",
    "import re\n",
    "import random\n",
    "import csv"
   ]
  },
  {
   "cell_type": "code",
   "execution_count": 100,
   "metadata": {
    "collapsed": true
   },
   "outputs": [],
   "source": [
    "# lstm network for blind people with a guide dog\n",
    "# mixed data (no leave-one-out), no cross-validation\n",
    "# Network Parameters\n",
    "num_input = 6 # number of used sensor data\n",
    "timesteps = 50 # timesteps\n",
    "num_hidden = 100 # hidden layer num of features\n",
    "num_output= 1"
   ]
  },
  {
   "cell_type": "code",
   "execution_count": 101,
   "metadata": {
    "collapsed": true
   },
   "outputs": [],
   "source": [
    "#read sensor data from csv files\n",
    "def read_sensor(filename):\n",
    "    with open(filename, \"r\") as csvfile:\n",
    "        reader = csv.reader(csvfile)\n",
    "        #[17:20] rotationRateX, rotation-RateY, rotationRateZ, \n",
    "        #[20:23] userAccelerationX, userAc-celerationY, userAccelerationZ\n",
    "        dataset = [row[17:23] for row in reader]\n",
    "        return np.array(dataset)\n",
    "\n",
    "# read ground trurh data from xml files\n",
    "def read_xml(filename, length):\n",
    "    f = open(filename)\n",
    "    cts = f.read()\n",
    "    f.close()\n",
    "\n",
    "    p_foot = re.compile(r'<WhichFoot>(.*?)</WhichFoot>')\n",
    "    all_foot = p_foot.findall(cts)\n",
    "\n",
    "    p_time = re.compile(r'<Time>(.*?)</Time>')\n",
    "    all_time = p_time.findall(cts)\n",
    "\n",
    "    strike_times = []\n",
    "    #L-1 R-0\n",
    "    strike_times.append([0.0, 0.5])\n",
    "    for i in range(len(all_foot)):\n",
    "        if(all_foot[i]=='L'):\n",
    "            strike_times.append([float(all_time[i]), 1])\n",
    "        else:\n",
    "            strike_times.append([float(all_time[i]), 0])\n",
    "    strike_times[-1][1] = 0.5\n",
    "    strike_times.append([length/25.0, 0.5])\n",
    "\n",
    "    #transfer the ground truth data to binary signals\n",
    "    #left steps toggle the signal from 0 to 1 \n",
    "    #and right steps toggle the signal from 1 to 0\n",
    "    window_y = []\n",
    "    strike_index=0\n",
    "    for i in range(length):\n",
    "        if(i/25.0 >= strike_times[strike_index+1][0]):\n",
    "            strike_index += 1\n",
    "        window_y.append([strike_times[strike_index][1]])\n",
    "    \n",
    "    #change y to 0.5 in turn segments, which will be removed later\n",
    "    p_info = re.compile(r'<StartTime>(.*?)</StartTime>\\n\\t<EndTime>(.*?)</EndTime>\\n\\t<NSteps>(.*?)</NSteps>\\n\\t<Direction>(.*?)</Direction>')\n",
    "    all_info = p_info.findall(cts)#start_time, end_time, step_num, direction=turn\n",
    "\n",
    "    for i in range(len(all_info)):\n",
    "        if(all_info[i][3][:4]=='Turn'):\n",
    "            #print(all_info[i])\n",
    "            start_time = int(float(all_info[i][0])*25)\n",
    "            end_time = int(float(all_info[i][1])*25)\n",
    "            #print('start and end time : ', all_info[i][0], all_info[i][1])\n",
    "            for t in range(start_time-1, end_time):\n",
    "                window_y[t] = [0.5]\n",
    "                \n",
    "    #change y to 0.5 under feature label, which will be removed later\n",
    "    p_feature = re.compile(r'<Feature>\\n\\t\\t\\t<StartTime>(.*?)</StartTime>\\n\\t\\t\\t<EndTime>(.*?)</EndTime>')\n",
    "    all_feature = p_feature.findall(cts)#start_time, end_time, step_num, direction=turn\n",
    "    \n",
    "    #print(filename, length)\n",
    "    for i in range(len(all_feature)):\n",
    "        start_time = int(float(all_feature[i][0])*25)\n",
    "        end_time = int(float(all_feature[i][1])*25)\n",
    "        #print(start_time-1, end_time)\n",
    "        if(end_time<=length):\n",
    "            for t in range(start_time-1, end_time):\n",
    "                window_y[t] = [0.5]\n",
    "            \n",
    "    return window_y\n",
    "\n",
    "# add corresponding sensor data and label to training set\n",
    "def add_data(path, person, phone_location, assistant):\n",
    "    data_x = read_sensor('weallwalk/sensor/iPhoneSensors_T'+str(path)+'_ID'+str(person)+'_'+phone_location+'_'+assistant+'.csv')\n",
    "    data_y = read_xml('weallwalk/xml/T'+str(path)+'_ID'+str(person)+'_'+assistant+'.xml', len(data_x))\n",
    "    \n",
    "    #remove the sensor data in turn segment and feature labels which is marked as 0.5\n",
    "    split_x, split_x_part = [], []\n",
    "    split_y, split_y_part = [], []\n",
    "    for i in range(len(data_y)):\n",
    "        if(data_y[i][0]!=0.5):\n",
    "            split_y_part.append(data_y[i])\n",
    "            split_x_part.append(data_x[i])\n",
    "        else:\n",
    "            if(len(split_y_part)>0):\n",
    "                split_y.append(split_y_part)\n",
    "                split_x.append(split_x_part)\n",
    "                split_y_part = []\n",
    "                split_x_part = []\n",
    "    \n",
    "    #windowed the data (window size = timesteps)\n",
    "    data_x_seq, data_y_seq = [], []\n",
    "    for i in range(len(split_x)):\n",
    "        data_x_part, data_y_part = [], []\n",
    "        for j in range(len(split_x[i])-timesteps):\n",
    "            x = split_x[i][j:j+timesteps]\n",
    "            y = split_y[i][j:j+timesteps]\n",
    "            data_x_part.append(x)\n",
    "            data_y_part.append(y)\n",
    "        if(len(data_x_part)>0):\n",
    "            data_x_seq.append(data_x_part)\n",
    "            data_y_seq.append(data_y_part)\n",
    "    \n",
    "    return data_x_seq, data_y_seq"
   ]
  },
  {
   "cell_type": "code",
   "execution_count": 102,
   "metadata": {},
   "outputs": [
    {
     "name": "stdout",
     "output_type": "stream",
     "text": [
      "[[1, 1, '1L', 'GD'], [1, 1, '2R', 'GD'], [1, 4, '1L', 'GD'], [1, 4, '2R', 'GD'], [1, 8, '1L', 'GD'], [1, 8, '2R', 'GD'], [2, 1, '1L', 'GD'], [2, 1, '2R', 'GD'], [2, 4, '1L', 'GD'], [2, 4, '2R', 'GD'], [2, 8, '1L', 'GD'], [2, 8, '2R', 'GD'], [3, 1, '1L', 'GD'], [3, 1, '2R', 'GD'], [3, 4, '1L', 'GD'], [3, 4, '2R', 'GD'], [3, 8, '1L', 'GD'], [3, 8, '2R', 'GD'], [4, 1, '1L', 'GD'], [4, 1, '2R', 'GD'], [4, 4, '1L', 'GD'], [4, 4, '2R', 'GD'], [4, 8, '1L', 'GD'], [4, 8, '2R', 'GD'], [5, 1, '1L', 'GD'], [5, 1, '2R', 'GD'], [5, 4, '1L', 'GD'], [5, 4, '2R', 'GD'], [5, 8, '1L', 'GD'], [5, 8, '2R', 'GD']]\n"
     ]
    }
   ],
   "source": [
    "#traning set\n",
    "step_data_list = []\n",
    "for i in range(1,6):\n",
    "    step_data_list.append([i, 1, '1L', 'GD'])\n",
    "    step_data_list.append([i, 1, '2R', 'GD'])\n",
    "    step_data_list.append([i, 4, '1L', 'GD'])\n",
    "    step_data_list.append([i, 4, '2R', 'GD'])\n",
    "    step_data_list.append([i, 8, '1L', 'GD'])\n",
    "    step_data_list.append([i, 8, '2R', 'GD'])\n",
    "    \n",
    "print(step_data_list)"
   ]
  },
  {
   "cell_type": "code",
   "execution_count": 103,
   "metadata": {},
   "outputs": [
    {
     "name": "stdout",
     "output_type": "stream",
     "text": [
      "68380\n",
      "68380\n"
     ]
    }
   ],
   "source": [
    "#add data to traning set\n",
    "data_x, data_y = [], []\n",
    "for i in step_data_list:\n",
    "    data_x_segement, data_y_segement = add_data(i[0], i[1], i[2], i[3])\n",
    "    for dx in data_x_segement:\n",
    "        data_x.extend(dx)\n",
    "    for dy in data_y_segement:\n",
    "        data_y.extend(dy)\n",
    "    \n",
    "print(len(data_x))\n",
    "print(len(data_y))"
   ]
  },
  {
   "cell_type": "code",
   "execution_count": 104,
   "metadata": {},
   "outputs": [
    {
     "name": "stdout",
     "output_type": "stream",
     "text": [
      "68380\n"
     ]
    }
   ],
   "source": [
    "#shuffle the training set\n",
    "order = list(range(0,len(data_x),1))\n",
    "random.shuffle(order)\n",
    "\n",
    "train_x = [data_x[i] for i in order]\n",
    "train_y = [data_y[i] for i in order]\n",
    "\n",
    "print(len(train_x))"
   ]
  },
  {
   "cell_type": "code",
   "execution_count": 105,
   "metadata": {},
   "outputs": [
    {
     "name": "stdout",
     "output_type": "stream",
     "text": [
      "[[6, 1, '1L', 'GD'], [6, 1, '2R', 'GD'], [6, 4, '1L', 'GD'], [6, 4, '2R', 'GD'], [6, 8, '1L', 'GD'], [6, 8, '2R', 'GD']]\n"
     ]
    }
   ],
   "source": [
    "#testing set\n",
    "step_test_list = []   \n",
    "for i in range(6,7):\n",
    "    step_test_list.append([i, 1, '1L', 'GD'])\n",
    "    step_test_list.append([i, 1, '2R', 'GD'])\n",
    "    step_test_list.append([i, 4, '1L', 'GD'])\n",
    "    step_test_list.append([i, 4, '2R', 'GD'])\n",
    "    step_test_list.append([i, 8, '1L', 'GD'])\n",
    "    step_test_list.append([i, 8, '2R', 'GD'])\n",
    "      \n",
    "print(step_test_list)"
   ]
  },
  {
   "cell_type": "code",
   "execution_count": 106,
   "metadata": {},
   "outputs": [
    {
     "name": "stdout",
     "output_type": "stream",
     "text": [
      "20\n",
      "20\n",
      "[217, 204, 1235, 83, 217, 204, 1235, 83, 448, 810, 20, 448, 810, 20, 481, 949, 15, 481, 949, 15]\n"
     ]
    }
   ],
   "source": [
    "test_x, test_y=[], []\n",
    "for i in step_test_list:\n",
    "    data_x_segement, data_y_segement = add_data(i[0], i[1], i[2], i[3])\n",
    "    test_x.extend(data_x_segement)\n",
    "    test_y.extend(data_y_segement)\n",
    "    \n",
    "print(len(test_x))\n",
    "print(len(test_y))\n",
    "\n",
    "print([len(i) for i in test_y])"
   ]
  },
  {
   "cell_type": "code",
   "execution_count": 107,
   "metadata": {},
   "outputs": [
    {
     "name": "stdout",
     "output_type": "stream",
     "text": [
      "(?, 50, 1)\n",
      "(50, 1)\n"
     ]
    }
   ],
   "source": [
    "#two-layer lstm network\n",
    "NUM_LAYERS=2\n",
    "\n",
    "def LstmCell():\n",
    "    lstm_cell = tf.contrib.rnn.BasicLSTMCell(num_hidden)#, forget_bias=1.0)\n",
    "    cell = tf.contrib.rnn.DropoutWrapper(lstm_cell, output_keep_prob=0.5)\n",
    "    return cell\n",
    "\n",
    "graph = tf.Graph()\n",
    "with graph.as_default(), tf.device('/gpu:0'):\n",
    "    # tf Graph input\n",
    "    X = tf.placeholder(\"float\", [None, timesteps, num_input])\n",
    "    Y = tf.placeholder(\"float\", [None, timesteps, num_output])\n",
    "    \n",
    "    # Define weights\n",
    "    weights = {\n",
    "        'out': tf.Variable(tf.random_normal([num_hidden, num_output]))\n",
    "    }\n",
    "    biases = {\n",
    "        'out': tf.Variable(tf.random_normal([num_output]))\n",
    "    }\n",
    "    \n",
    "    def RNN(x, weights, biases):\n",
    "        x = tf.unstack(x, timesteps, 1)\n",
    "        cell = tf.contrib.rnn.MultiRNNCell([LstmCell() for _ in range(NUM_LAYERS)])\n",
    "        outputs, state = tf.nn.dynamic_rnn(cell, X, dtype=tf.float32)\n",
    "        outputs = tf.transpose(outputs, [1,0,2])\n",
    "\n",
    "#         return tf.matmul(outputs[-1], weights['out']) + biases['out']\n",
    "        ret = []\n",
    "#         print(outputs.shape)\n",
    "        for i in range(0, timesteps):\n",
    "            ret.append(tf.matmul(outputs[i], weights['out']) + biases['out'])\n",
    "        return ret\n",
    "    \n",
    "    logits = RNN(X, weights, biases)\n",
    "    logits = tf.transpose(logits, [1,0,2])\n",
    "#     print(len(logits))\n",
    "    print(logits.shape)\n",
    "    print(logits[0].shape)\n",
    "    mean_train = tf.reduce_mean(X)\n",
    "    \n",
    "    loss = tf.reduce_mean(tf.squared_difference(logits, Y))\n",
    "    optimizer = tf.train.AdamOptimizer(learning_rate = 0.001).minimize(loss)\n",
    "    saver = tf.train.Saver()"
   ]
  },
  {
   "cell_type": "code",
   "execution_count": 108,
   "metadata": {
    "collapsed": true
   },
   "outputs": [],
   "source": [
    "#calculate the accuarcy between real y and prediction _y\n",
    "def cal_accuarcy(y, _y):\n",
    "    count = 0\n",
    "    total = 0\n",
    "    for i in range(len(y[0])):\n",
    "        total += 1\n",
    "        if(y[0][i][0] == round(_y[0][i][0])):\n",
    "            count += 1\n",
    "    for i in range(1, len(y)):\n",
    "        total += 1\n",
    "        if(y[i][-1][0] == round(_y[i][-1][0])):\n",
    "            count += 1;\n",
    "    return(count*1.0/total)\n",
    "#     print(\"train accuarcy : \", count/len(y))"
   ]
  },
  {
   "cell_type": "code",
   "execution_count": 109,
   "metadata": {},
   "outputs": [
    {
     "name": "stdout",
     "output_type": "stream",
     "text": [
      "Initialized\n",
      "Loss at step 0: 2.667274, train accuarcy : 0.032787\n",
      "Loss at step 200: 0.190697, train accuarcy : 0.822951\n",
      "Loss at step 400: 0.144264, train accuarcy : 0.868852\n",
      "Loss at step 600: 0.125289, train accuarcy : 0.895082\n",
      "Loss at step 800: 0.111897, train accuarcy : 0.878689\n",
      "Loss at step 1000: 0.101201, train accuarcy : 0.911475\n",
      "Loss at step 1200: 0.093380, train accuarcy : 0.918033\n",
      "Loss at step 1400: 0.081008, train accuarcy : 0.947541\n",
      "Loss at step 1600: 0.070653, train accuarcy : 0.963934\n",
      "Loss at step 1800: 0.068188, train accuarcy : 0.960656\n",
      "Loss at step 2000: 0.054848, train accuarcy : 0.977049\n"
     ]
    }
   ],
   "source": [
    "training_steps = 2001\n",
    "batch_size = 256\n",
    "batch_start = 0\n",
    "\n",
    "config = tf.ConfigProto(allow_soft_placement=True)\n",
    "with tf.Session(graph=graph, config=config) as session:\n",
    "#     saver.restore(session, tf.train.latest_checkpoint('lstm_check'))\n",
    "#     saver.restore(session, \"lstm_check/my-model-gpu-error-metric-dropout2-gd.ckpt-2000\")\n",
    "    tf.global_variables_initializer().run()\n",
    "    print('Initialized')\n",
    "    for step in range(training_steps):\n",
    "        #shuffle the training set when epoch+1\n",
    "        if(batch_start+batch_size>len(train_x)):\n",
    "            order = list(range(0,len(train_x),1))\n",
    "            random.shuffle(order)\n",
    "            train_x = [train_x[i] for i in order]\n",
    "            train_y = [train_x[i] for i in order]\n",
    "            batch_start=0\n",
    "        feed_dict = {X: train_x[batch_start:batch_start+batch_size], Y: train_y[batch_start:batch_start+batch_size]}\n",
    "        _, l, predictions, m = session.run([optimizer, loss, logits, mean_train], feed_dict = feed_dict)\n",
    "        if (step % 200 == 0):\n",
    "            train_accuarcy = cal_accuarcy(train_y[batch_start:batch_start+batch_size], predictions)\n",
    "            print('Loss at step %d: %f, train accuarcy : %f' % (step, l, train_accuarcy))\n",
    "            #train accuarcy\n",
    "        if (step>0 and step % 500 == 0):\n",
    "            saver.save(session, 'lstm_check/my-model-gpu-error-metric-dropout2-gd.ckpt', global_step=step)\n",
    "            \n",
    "    test_loss, test_logits = [], []\n",
    "    for i in range(len(test_x)):\n",
    "#         saver.restore(session, tf.train.latest_checkpoint('lstm_check'))\n",
    "        test_loss_part, test_logits_part = session.run([loss,logits], feed_dict={X: test_x[i], Y: test_y[i]})\n",
    "        test_loss.append(test_loss_part)\n",
    "        test_logits.append(test_logits_part)"
   ]
  },
  {
   "cell_type": "markdown",
   "metadata": {
    "collapsed": true
   },
   "source": [
    "# test"
   ]
  },
  {
   "cell_type": "code",
   "execution_count": 110,
   "metadata": {},
   "outputs": [
    {
     "name": "stdout",
     "output_type": "stream",
     "text": [
      "test loss :  [0.14911345, 0.15739895, 0.15894003, 0.1857063, 0.16100439, 0.1547308, 0.17623697, 0.21368077, 0.13574761, 0.12770915, 0.16839591, 0.10321697, 0.1021095, 0.14045762, 0.12576948, 0.10008885, 0.133838, 0.11622405, 0.1024136, 0.17341837]\n",
      "20\n"
     ]
    }
   ],
   "source": [
    "print(\"test loss : \", test_loss)\n",
    "print(len(test_loss))"
   ]
  },
  {
   "cell_type": "code",
   "execution_count": 111,
   "metadata": {},
   "outputs": [
    {
     "name": "stdout",
     "output_type": "stream",
     "text": [
      "20\n",
      "217\n",
      "50\n",
      "8646\n",
      "9904\n",
      "test accuarcy :  0.8729806138933764\n"
     ]
    }
   ],
   "source": [
    "# transfer output to binary signal\n",
    "test_y_seq_list, test_logits_bin_list = [], []\n",
    "\n",
    "for t in test_logits:  \n",
    "    t_all = [i for i in t[0]]\n",
    "    t_all.extend([i[-1] for i in t[1:]])\n",
    "#     print(len(t_all)-len(t))\n",
    "    \n",
    "#     test_logits_part = [[round(i[0])] for i in t_all]\n",
    "    test_logits_part = []\n",
    "    for i in t_all:\n",
    "        if(i[0]>0.5):\n",
    "            test_logits_part.append([1.0])\n",
    "        else:\n",
    "            test_logits_part.append([0.0])\n",
    "    # remove sudden change\n",
    "    for i in range(1, len(test_logits_part)-1):\n",
    "        if(test_logits_part[i-1][0]!=test_logits_part[i][0] and test_logits_part[i-1][0]==test_logits_part[i+1][0]):\n",
    "            test_logits_part[i][0]=test_logits_part[i-1][0]   \n",
    "    test_logits_bin_list.append(test_logits_part)\n",
    "    \n",
    "for t in test_y:  \n",
    "    t_all = [i for i in t[0]]\n",
    "    t_all.extend([i[-1] for i in t[1:]])\n",
    "    test_y_seq_list.append(t_all)\n",
    "\n",
    "# print(test_y_seq_list)\n",
    "    \n",
    "count = 0\n",
    "total = 0\n",
    "for i in range(0, len(test_y_seq_list)):\n",
    "    total += len(test_y_seq_list[i])\n",
    "    for j in range(0, len(test_y_seq_list[i])):\n",
    "        if(test_y_seq_list[i][j][0] == test_logits_bin_list[i][j][0]):\n",
    "            count += 1\n",
    "\n",
    "print(count)\n",
    "print(total)\n",
    "print(\"test accuarcy : \", count*1.0/total)"
   ]
  },
  {
   "cell_type": "code",
   "execution_count": 112,
   "metadata": {},
   "outputs": [],
   "source": [
    "test_y_show = []\n",
    "for part_y in test_y:\n",
    "    test_y_show_part = [i for i in part_y[0]]\n",
    "    test_y_show_part.extend([i[-1] for i in part_y[1:]])\n",
    "#     print(len(test_y_show_part))    \n",
    "    test_y_show.append(test_y_show_part)\n",
    "\n",
    "test_logits_show = []\n",
    "for part_logits in test_logits:\n",
    "    test_logits_show_part = [i for i in part_logits[0]]\n",
    "    test_logits_show_part.extend([i[-1] for i in part_logits[1:]])\n",
    "#     print(len(test_logits_show_part))    \n",
    "    test_logits_show.append(test_logits_show_part)"
   ]
  },
  {
   "cell_type": "code",
   "execution_count": 113,
   "metadata": {},
   "outputs": [
    {
     "data": {
      "image/png": "[encoded data removed]",
      "text/plain": [
       "<matplotlib.figure.Figure at 0x7f5e47744be0>"
      ]
     },
     "metadata": {},
     "output_type": "display_data"
    }
   ],
   "source": [
    "# sample output\n",
    "plt.figure(figsize=(18, 5))\n",
    "index=8\n",
    "start=0\n",
    "end=500\n",
    "plt.plot([i[0] for i in test_y_show[index][start:end]], 'r')\n",
    "plt.plot([i[0] for i in test_logits_show[index][start:end]], 'b')\n",
    "plt.plot([i[0] for i in test_logits_bin_list[index][start:end]], 'y')\n",
    "plt.show()"
   ]
  },
  {
   "cell_type": "code",
   "execution_count": 116,
   "metadata": {},
   "outputs": [
    {
     "name": "stdout",
     "output_type": "stream",
     "text": [
      "Step number for each segement\n",
      "[22, 20, 105, 10, 22, 20, 105, 10, 44, 76, 5, 44, 76, 5, 42, 78, 4, 42, 78, 4]\n",
      "[22, 22, 105, 10, 24, 21, 106, 11, 44, 75, 5, 45, 76, 5, 40, 79, 5, 42, 78, 5]\n",
      "======\n"
     ]
    }
   ],
   "source": [
    "#transfer the binary signal to heel strike times\n",
    "step_time_actual, step_time_predict= [], []\n",
    "step_time_actual_gap = []\n",
    "\n",
    "for i in range(0, len(test_y_seq_list)):\n",
    "    step_time_actual_part, step_time_predict_part= [], []\n",
    "    for j in range(1, len(test_y_seq_list[i])):\n",
    "        if(abs(test_y_seq_list[i][j][0]-test_y_seq_list[i][j-1][0])>0.5):\n",
    "            step_time_actual_part.append(j)\n",
    "        if(abs(test_logits_bin_list[i][j][0]-test_logits_bin_list[i][j-1][0])>0.5):\n",
    "            step_time_predict_part.append(j)\n",
    "    step_time_actual.append(step_time_actual_part)\n",
    "#     step_time_predict.append(step_time_predict_part)\n",
    "    \n",
    "    average_time = (step_time_predict_part[-1]-step_time_predict_part[0])/(len(step_time_predict_part)-1)\n",
    "    step_time_predict_part_1 = [step_time_predict_part[0]]\n",
    "    j = 1\n",
    "    while j<len(step_time_predict_part):\n",
    "        if(step_time_predict_part[j]-step_time_predict_part_1[-1]>average_time/4):\n",
    "            step_time_predict_part_1.append(step_time_predict_part[j])\n",
    "            j += 1\n",
    "        else:\n",
    "            j += 2\n",
    "    step_time_predict.append(step_time_predict_part_1)\n",
    "    \n",
    "    step_time_actual_gap_part = []\n",
    "    step_time_actual_gap_part.append(0)\n",
    "    for i in range(1, len(step_time_actual_part)):\n",
    "        step_time_actual_gap_part.append((step_time_actual_part[i-1]+step_time_actual_part[i])/2.0)\n",
    "    step_time_actual_gap_part.append(step_time_actual_part[-1]*2)\n",
    "    step_time_actual_gap.append(step_time_actual_gap_part)\n",
    "\n",
    "print('Step number for each segement')\n",
    "print([len(i) for i in step_time_actual])   \n",
    "print([len(i) for i in step_time_predict])\n",
    "\n",
    "print('======')\n",
    "iii = 13\n",
    "# print(step_time_actual[iii])\n",
    "# print(step_time_actual_gap[iii])\n",
    "# print(step_time_predict[iii])"
   ]
  },
  {
   "cell_type": "code",
   "execution_count": 117,
   "metadata": {},
   "outputs": [
    {
     "name": "stdout",
     "output_type": "stream",
     "text": [
      "20\n",
      "20\n",
      "22\n",
      "[0, 2, 1, 1, 2, 1, 2, 1, 3, 0, 0, 2, 1, 0, 1, 1, 1, 2, 0, 1]\n",
      "20\n",
      "11\n",
      "[0, 2, 0, 0, 2, 1, 1, 1, 0, 0, 0, 1, 0, 0, 0, 1, 1, 0, 0, 1]\n",
      "error : \n",
      "total undercount metric 1:\t 0.22167487684729065\n",
      "total overcount metric 1:\t 0.20812807881773399\n",
      "total undercount metric 2:\t 0.017241379310344827\n",
      "total overcount metric 2:\t 0.027093596059113302\n",
      "total undercount metric 3:\t 0.003694581280788177\n",
      "total overcount metric 3:\t 0.013546798029556651\n"
     ]
    }
   ],
   "source": [
    "# calculate the error rate in three metric\n",
    "total_step_count = sum([len(i) for i in step_time_actual])\n",
    "metric1_undercount = 0\n",
    "metric2_undercount = 0\n",
    "metric3_undercount = 0\n",
    "metric1_overcount = 0\n",
    "metric2_overcount = 0\n",
    "metric3_overcount = 0\n",
    "\n",
    "metric2_overcount_list = []\n",
    "metric3_overcount_list = []\n",
    "\n",
    "print(len(test_x))\n",
    "\n",
    "for i in range(len(test_x)):\n",
    "    step_count = len(step_time_actual[i])\n",
    "    undercount = 0\n",
    "    overcount = 0\n",
    "\n",
    "    for j in range(1, step_count):\n",
    "        gap_count = [t for t in step_time_predict[i] if t>=step_time_actual[i][j-1] and t<step_time_actual[i][j]]\n",
    "    #     print(gap_count)\n",
    "        if(len(gap_count)>1):\n",
    "            overcount += len(gap_count)-1\n",
    "        if(len(gap_count)<1):\n",
    "            undercount += 1\n",
    "    gap_count = [t for t in step_time_predict[i] if t>=step_time_actual[i][-1]]\n",
    "    if(len(gap_count)>1):\n",
    "        overcount += len(gap_count)-1\n",
    "    if(len(gap_count)<1):\n",
    "        undercount += 1\n",
    "    \n",
    "    metric1_undercount += undercount\n",
    "    metric1_overcount += overcount\n",
    "    \n",
    "    undercount = 0\n",
    "    overcount = 0\n",
    "    for j in range(1, len(step_time_actual_gap[i])):\n",
    "        gap_count = [t for t in step_time_predict[i] if t>=step_time_actual_gap[i][j-1] and t<step_time_actual_gap[i][j]]\n",
    "    #     print(gap_count)\n",
    "        if(len(gap_count)>1):\n",
    "            overcount += (len(gap_count)-1)\n",
    "        if(len(gap_count)<1):\n",
    "            undercount += 1    \n",
    "    \n",
    "    metric2_undercount += undercount\n",
    "    metric2_overcount += overcount  \n",
    "    metric2_overcount_list.append(overcount)\n",
    "    \n",
    "#     print(undercount, overcount)\n",
    "#     print('undercount : ', undercount*1.0/step_count)\n",
    "#     print('overcount : ', overcount*1.0/step_count)\n",
    "    diff = len(step_time_predict[i])-len(step_time_actual[i])\n",
    "#     if(diff==0):\n",
    "#         print(\"segement correct!\")\n",
    "\n",
    "    if(diff<0):\n",
    "#         print('segement undercount : ', 1-len(step_time_predict[i])*1.0/len(step_time_actual[i]))\n",
    "        metric3_undercount -= diff\n",
    "        metric3_overcount_list.append(0)\n",
    "#     if(diff>=0):\n",
    "    else:\n",
    "#         print('segement overcount : ', 1-len(step_time_actual[i])*1.0/len(step_time_predict[i]))\n",
    "        metric3_overcount += diff\n",
    "        metric3_overcount_list.append(diff)\n",
    "\n",
    "print(len(metric2_overcount_list))\n",
    "print(sum(metric2_overcount_list))\n",
    "print(metric2_overcount_list)\n",
    "print(len(metric3_overcount_list))\n",
    "print(sum(metric3_overcount_list))\n",
    "print(metric3_overcount_list)\n",
    "        \n",
    "print('error : ')\n",
    "print(\"total undercount metric 1:\\t\", metric1_undercount*1.0/total_step_count)\n",
    "print(\"total overcount metric 1:\\t\", metric1_overcount*1.0/total_step_count)\n",
    "print(\"total undercount metric 2:\\t\", metric2_undercount*1.0/total_step_count)\n",
    "print(\"total overcount metric 2:\\t\", metric2_overcount*1.0/total_step_count)\n",
    "print(\"total undercount metric 3:\\t\", metric3_undercount*1.0/total_step_count)\n",
    "print(\"total overcount metric 3:\\t\", metric3_overcount*1.0/total_step_count)"
   ]
  },
  {
   "cell_type": "code",
   "execution_count": null,
   "metadata": {
    "collapsed": true
   },
   "outputs": [],
   "source": []
  }
 ],
 "metadata": {
  "kernelspec": {
   "display_name": "Python 3",
   "language": "python",
   "name": "python3"
  },
  "language_info": {
   "codemirror_mode": {
    "name": "ipython",
    "version": 3
   },
   "file_extension": ".py",
   "mimetype": "text/x-python",
   "name": "python",
   "nbconvert_exporter": "python",
   "pygments_lexer": "ipython3",
   "version": "3.6.3"
  }
 },
 "nbformat": 4,
 "nbformat_minor": 2
}
